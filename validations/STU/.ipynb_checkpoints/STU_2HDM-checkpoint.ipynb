{
 "cells": [
  {
   "cell_type": "markdown",
   "metadata": {},
   "source": [
    "# Calculation of the oblique S, T, U parameters in a THDM"
   ]
  },
  {
   "cell_type": "markdown",
   "metadata": {},
   "source": [
    "STU_2HDM.ipynb\n",
    "<br>\n",
    "Last change: 3.5.2022"
   ]
  },
  {
   "cell_type": "markdown",
   "metadata": {},
   "source": [
    "References:\n",
    "\n",
    "[1] D. Eriksson, J. Rathsman, O. Stal, 2hDMC - Two-Higgs-Doublet Model Calculator, arXiv:09020851\n",
    "<br>\n",
    "[2] Y. Heo, D.-W. Jung, J. S. Lee, arXiv:2204.05728"
   ]
  },
  {
   "cell_type": "markdown",
   "metadata": {},
   "source": [
    "## Information on python and used modules"
   ]
  },
  {
   "cell_type": "code",
   "execution_count": 2,
   "metadata": {},
   "outputs": [
    {
     "name": "stdout",
     "output_type": "stream",
     "text": [
      "python version:\n",
      "3.9.1 (default, Dec 28 2020, 11:22:14) \n",
      "[Clang 11.0.0 (clang-1100.0.33.17)]\n",
      "\n",
      "\n",
      "numpy version:\n",
      "1.19.4\n",
      "\n",
      "\n",
      "scipy version:\n",
      "1.5.4\n",
      "\n",
      "\n",
      "matplotlib version:\n",
      "3.3.3\n",
      "\n",
      "\n",
      "Working directory:\n",
      "/Users/schienbein/ownCloud/William\n",
      "\n",
      "\n",
      "System path:\n",
      "['/Users/schienbein/ownCloud/William', '/usr/local/Cellar/python@3.9/3.9.1_3/Frameworks/Python.framework/Versions/3.9/lib/python39.zip', '/usr/local/Cellar/python@3.9/3.9.1_3/Frameworks/Python.framework/Versions/3.9/lib/python3.9', '/usr/local/Cellar/python@3.9/3.9.1_3/Frameworks/Python.framework/Versions/3.9/lib/python3.9/lib-dynload', '', '/usr/local/lib/python3.9/site-packages', '/usr/local/lib/python3.9/site-packages/IPython/extensions', '/Users/schienbein/.ipython']\n"
     ]
    }
   ],
   "source": [
    "import sys, os\n",
    "import numpy as np\n",
    "import scipy\n",
    "import matplotlib.pyplot as plt\n",
    "import matplotlib\n",
    "\n",
    "print('python version:')\n",
    "print(sys.version)\n",
    "print('\\n')\n",
    "\n",
    "print('numpy version:')\n",
    "print(np.__version__)\n",
    "print('\\n')\n",
    "\n",
    "print('scipy version:')\n",
    "print(scipy.__version__)\n",
    "print('\\n')\n",
    "\n",
    "print('matplotlib version:')\n",
    "print(matplotlib.__version__)\n",
    "print('\\n')\n",
    "\n",
    "print(\"Working directory:\")\n",
    "print(os.getcwd()) # print working directory\n",
    "print('\\n')\n",
    "\n",
    "print(\"System path:\")\n",
    "print(sys.path)\n"
   ]
  },
  {
   "cell_type": "markdown",
   "metadata": {},
   "source": [
    "## Define input parameters"
   ]
  },
  {
   "cell_type": "code",
   "execution_count": 55,
   "metadata": {},
   "outputs": [],
   "source": [
    "# Input parameters\n",
    "mW = 80.398 # mass of W-boson in GeV\n",
    "mZ = 91.1876 # mass of Z-boson in GeV\n",
    "Gf = 1.16637*10**(-5) # Fermi constant in GeV^-2\n",
    "sW2 = 0.23116 # sin^2 theta_w\n",
    "sW = np.sqrt(sW2)\n",
    "cW2 = 1-sW2 # cos^2 theta_w\n",
    "cW = np.sqrt(cW2)\n",
    "\n",
    "# 2HDM parameters\n",
    "mh = 125. # Mass of the lightest neutral Higgs boson in GeV\n",
    "mhref = 125. #  Mass of the lightest neutral Higgs boson in GeV\n",
    "mH = 1000. # Mass of the heavier CP-even Higgs boson in GeV\n",
    "mHpm = 1000. # Mass of the charged Higgs boson in GeV\n",
    "mA = 1000. # Mass of the CP-ood Higgs boson in GeV\n",
    "cosba = 0. # cos(beta-alpha)\n",
    "sinba = np.sqrt(1.-cosba**2) # sin(beta-alpha)"
   ]
  },
  {
   "cell_type": "markdown",
   "metadata": {},
   "source": [
    "## Auxiliary loop functions"
   ]
  },
  {
   "cell_type": "code",
   "execution_count": 6,
   "metadata": {},
   "outputs": [
    {
     "name": "stdout",
     "output_type": "stream",
     "text": [
      "2.302585092994046\n"
     ]
    }
   ],
   "source": [
    "# Natural logarithm\n",
    "print(np.log(10.))"
   ]
  },
  {
   "cell_type": "code",
   "execution_count": 11,
   "metadata": {},
   "outputs": [],
   "source": [
    "# Eq. (39) in [1], or Eq. (16) in [2]\n",
    "def F(x,y):\n",
    "    if x-y == 0.:\n",
    "        return 0 # The function below tends 0 in the limit x->y\n",
    "    else :\n",
    "        return (x+y)/2 -(x*y)*np.log(x/y)/(x-y) "
   ]
  },
  {
   "cell_type": "code",
   "execution_count": 12,
   "metadata": {},
   "outputs": [],
   "source": [
    "# Eq. (42) in [1]\n",
    "def f(t,r):\n",
    "    if r>0 :\n",
    "        sr = np.sqrt(r)\n",
    "        return sr*np.log(abs((t-sr)/(t+sr)))\n",
    "    elif r==0 :\n",
    "        return 0.\n",
    "    elif r<0 :\n",
    "        sr = np.sqrt(-r)\n",
    "        return 2.*sr*np.arctan(sr/t)"
   ]
  },
  {
   "cell_type": "code",
   "execution_count": 13,
   "metadata": {},
   "outputs": [],
   "source": [
    "# Below Eq. (41) in [1]\n",
    "def t(x,y,Q):\n",
    "    return x+y-Q\n",
    "\n",
    "\n",
    "def r(x,y,Q):\n",
    "    return Q**2 - 2.*Q*(x+y) + (x-y)**2"
   ]
  },
  {
   "cell_type": "code",
   "execution_count": 39,
   "metadata": {},
   "outputs": [],
   "source": [
    "# Eq. (41) in [1]\n",
    "def G(x,y,Q):\n",
    "    if x == y:\n",
    "        res1 = -16./3. + 5.*(x+y)/Q - 2.*(x+y)**2/Q**2 + \\\n",
    "                (3./Q)*( -(x**2-y**2)/Q + (x-y)**3/(3.*Q**2) )*np.log(x/y) + \\\n",
    "                ( r(x,y,Q) /Q**3 )*f(t(x,y,Q), r(x,y,Q))\n",
    "        res2 = -16./3.+16.*y/Q-8.*y**2/Q**2 + ( r(x,y,Q) /Q**3 )*f(t(x,y,Q), r(x,y,Q))\n",
    "        return res2\n",
    "    else :\n",
    "        return  -16./3. + 5.*(x+y)/Q - 2.*(x+y)**2/Q**2 +\\\n",
    "                (3./Q)*( (x**2+y**2)/(x-y) - (x**2-y**2)/Q + (x-y)**3/(3*Q**2) )*np.log(x/y) + \\\n",
    "                ( r(x,y,Q) /Q**3 )*f(t(x,y,Q), r(x,y,Q))"
   ]
  },
  {
   "cell_type": "code",
   "execution_count": 70,
   "metadata": {},
   "outputs": [
    {
     "name": "stdout",
     "output_type": "stream",
     "text": [
      "-800.0201526794895 -800.0201444664282\n"
     ]
    }
   ],
   "source": [
    "print(G(1000.00001,1000.,100.),G(1000.,1000.,100.))"
   ]
  },
  {
   "cell_type": "code",
   "execution_count": 40,
   "metadata": {},
   "outputs": [],
   "source": [
    "# Eq. (44) in [1]\n",
    "def Gtilde(x,y,Q):\n",
    "    if x == y :\n",
    "        res1 = -2. + ( (x-y)/Q )*np.log(x/y) + f(t(x,y,Q),r(x,y,Q))/Q\n",
    "        res2 = -4. + f(t(x,y,Q),r(x,y,Q))/Q\n",
    "        return res2\n",
    "    else :\n",
    "        return -2. + ( (x-y)/Q - (x+y)/(x-y) )*np.log(x/y) + f(t(x,y,Q),r(x,y,Q))/Q"
   ]
  },
  {
   "cell_type": "code",
   "execution_count": 71,
   "metadata": {},
   "outputs": [
    {
     "name": "stdout",
     "output_type": "stream",
     "text": [
      "-0.033671502132326836 -0.033671509407825706\n"
     ]
    }
   ],
   "source": [
    "print(Gtilde(1000.00001,1000.,100.),Gtilde(1000.,1000.,100.))"
   ]
  },
  {
   "cell_type": "code",
   "execution_count": 30,
   "metadata": {},
   "outputs": [],
   "source": [
    "# Eq. (43) in [1]\n",
    "def Gchapeau(x,Q):\n",
    "    return G(x,Q,Q) + 12.*Gtilde(x,Q,Q)"
   ]
  },
  {
   "cell_type": "code",
   "execution_count": 79,
   "metadata": {},
   "outputs": [
    {
     "name": "stdout",
     "output_type": "stream",
     "text": [
      "-79.98693249391707\n"
     ]
    }
   ],
   "source": [
    "print(Gchapeau(1000.0000,100.))"
   ]
  },
  {
   "cell_type": "markdown",
   "metadata": {},
   "source": [
    "## Formulae for the oblique parameters S, T, U for the 2HDM"
   ]
  },
  {
   "cell_type": "code",
   "execution_count": 65,
   "metadata": {},
   "outputs": [],
   "source": [
    "# Eq. (38) in [1]\n",
    "def Tcalc(mh, mH, mA, mHpm, sinba):\n",
    "\n",
    "    mhref = mh\n",
    "    cosba = np.sqrt(1.-sinba**2)\n",
    "    cste = Gf*np.sqrt(2)/(16.*np.pi**2)# Note: g^2/(8*m_w^2) = G_F/sqrt(2)\n",
    "    \n",
    "    res1 = cste*( \n",
    "    cosba**2*F(mHpm**2,mh**2) + sinba**2*F(mHpm**2,mH**2) + F(mHpm**2,mA**2) \n",
    "    - cosba**2*F(mh**2,mA**2) - sinba**2*F(mH**2,mA**2) \n",
    "    + 3.*( sinba**2*( F(mZ**2,mh**2) - F(mW**2,mh**2) ) + cosba**2*( F(mZ**2,mH**2) - F(mW**2,mH**2) ) ) \n",
    "    - 3*( F(mZ**2, mhref**2) - F(mW**2, mhref**2) ) )\n",
    "    \n",
    "    return res1"
   ]
  },
  {
   "cell_type": "code",
   "execution_count": 73,
   "metadata": {},
   "outputs": [],
   "source": [
    "# Eq.(45) in [1]\n",
    "def Scalc(mh, mH, mA, mHpm, sinba):\n",
    "\n",
    "    mhref = mh\n",
    "    cosba = np.sqrt(1.-sinba**2)\n",
    "    cste = mZ**2*Gf/(48.*np.sqrt(2)*np.pi**2)\n",
    "\n",
    "    res1 = cste*( \n",
    "    (sW2-cW2)**2*G(mHpm**2,mHpm**2,mZ**2) \n",
    "    + cosba**2*G(mh**2,mA**2,mZ**2) + sinba**2*G(mH**2,mA**2,mZ**2) \n",
    "    - 2*np.log(mHpm**2) + np.log(mh**2) + np.log(mH**2) + np.log(mA**2) - np.log(mhref**2) \n",
    "    + sinba**2*Gchapeau(mh**2,mZ**2) + cosba**2*Gchapeau(mH**2,mZ**2) - Gchapeau(mhref**2,mZ**2) )\n",
    "    \n",
    "    print(\"In Scalc:\")\n",
    "    print(\"cste =\",cste)\n",
    "    print(\"sW2, cW2 =\",sW2,cW2)\n",
    "    print(\"cosba, sinba =\",cosba,sinba)\n",
    "    print(\"mh,mH,mA,mHpm,mhref =\",mh,mH,mA,mHpm,mhref)\n",
    "    print(\"mW,mZ =\",mW,mZ)\n",
    "    print()\n",
    "    \n",
    "    return res1"
   ]
  },
  {
   "cell_type": "code",
   "execution_count": 67,
   "metadata": {},
   "outputs": [],
   "source": [
    "# Eq. (46) in [1]\n",
    "def Ucalc(mh, mH, mA, mHpm, sinba):\n",
    "\n",
    "    mhref = mh    \n",
    "    cosba = np.sqrt(1.-sinba**2)\n",
    "    cste = cW2*mZ**2*Gf/(48.*np.sqrt(2)*np.pi**2)\n",
    "    \n",
    "    res1 = cste*(\n",
    "    cosba**2*G(mHpm**2,mh**2,mW**2) + sinba**2*G(mHpm**2,mH**2,mW**2) + G(mHpm**2,mA**2,mW**2) \n",
    "    - (sW2-cW2)**2*G(mHpm**2,mHpm**2,mZ**2) \n",
    "    - cosba**2*G(mh**2,mA**2,mZ**2) - sinba**2*G(mH**2,mA**2,mZ**2) \n",
    "    + sinba**2*( Gchapeau(mh**2,mW**2) - Gchapeau(mh**2,mZ**2) ) \n",
    "    + cosba**2*( Gchapeau(mH**2,mW**2) - Gchapeau(mH**2,mZ**2) ) \n",
    "    - Gchapeau(mhref**2,mW**2) + Gchapeau(mhref**2,mZ**2) )\n",
    "    \n",
    "    return res1"
   ]
  },
  {
   "cell_type": "markdown",
   "metadata": {},
   "source": [
    "## Some numerical checks"
   ]
  },
  {
   "cell_type": "code",
   "execution_count": 82,
   "metadata": {},
   "outputs": [
    {
     "name": "stdout",
     "output_type": "stream",
     "text": [
      "In Scalc:\n",
      "cste = 0.0001447611188596614\n",
      "sW2, cW2 = 0.23116 0.76884\n",
      "cosba, sinba = 0.9797958971132712 0.2\n",
      "mh,mH,mA,mHpm,mhref = 80.0 200.0 140.0 160.0 80.0\n",
      "mW,mZ = 80.398 91.1876\n",
      "\n",
      "S =  -0.009587779684029223     2HDMC expected: 0.0677200\n",
      "T =  -0.0002762877761126474     2HDMC expected: -0.0162816\n",
      "U =  -0.011521708985991422     2HDMC expected: 0.000295734\n",
      "\n",
      "-0.14157973544047878 0.016969325871698568 -38.95970360523789\n",
      "-7.063157710309522 58.92986012295276 -0.02566754639954592\n"
     ]
    }
   ],
   "source": [
    "# Sample output for the 2HDM in the physical mass basis\n",
    "# See App. A in [1]\n",
    "mh = 80.\n",
    "mH = 200.\n",
    "mA = 140.\n",
    "mHpm = 160.\n",
    "sinba = 0.2\n",
    "\n",
    "Sexp = 0.0677200\n",
    "Texp = -0.0162816\n",
    "Uexp = 0.000295734\n",
    "\n",
    "Sc = Scalc(mh, mH, mA, mHpm, sinba)\n",
    "Tc = Tcalc(mh, mH, mA, mHpm, sinba)\n",
    "Uc = Ucalc(mh, mH, mA, mHpm, sinba)\n",
    "\n",
    "print(\"S = \", Sc, \"    2HDMC expected: 0.0677200\")\n",
    "print(\"T = \", Tc, \"    2HDMC expected: -0.0162816\")\n",
    "print(\"U = \", Uc, \"    2HDMC expected: 0.000295734\")\n",
    "\n",
    "print()\n",
    "print(Sc/Sexp, Tc/Texp, Uc/Uexp)\n",
    "print(Sexp/Sc, Texp/Tc, Uexp/Uc)"
   ]
  },
  {
   "cell_type": "code",
   "execution_count": 81,
   "metadata": {},
   "outputs": [
    {
     "name": "stdout",
     "output_type": "stream",
     "text": [
      "In Scalc:\n",
      "cste = 0.0001447611188596614\n",
      "sW2, cW2 = 0.23116 0.76884\n",
      "cosba, sinba = 0.0 1.0\n",
      "mh,mH,mA,mHpm,mhref = 125.0 1396.0 1024.0 1000.0 125.0\n",
      "mW,mZ = 80.398 91.1876\n",
      "\n",
      "S =  -39.06918278666252\n",
      "T =  0.0013094625997870093\n",
      "U =  -33.838363158727596\n"
     ]
    }
   ],
   "source": [
    "mh = 125.\n",
    "mH = 1396.\n",
    "mA = 1024.\n",
    "mHpm = 1000.\n",
    "sinba = 1.0\n",
    "\n",
    "Sc = Scalc(mh, mH, mA, mHpm, sinba)\n",
    "Tc = Tcalc(mh, mH, mA, mHpm, sinba)\n",
    "Uc = Ucalc(mh, mH, mA, mHpm, sinba)\n",
    "\n",
    "print(\"S = \", Sc)\n",
    "print(\"T = \", Tc)\n",
    "print(\"U = \", Uc)"
   ]
  },
  {
   "cell_type": "code",
   "execution_count": 56,
   "metadata": {},
   "outputs": [
    {
     "name": "stdout",
     "output_type": "stream",
     "text": [
      "corrmw  3.4353685983978246\n",
      "corrmw  4.952306112587642\n",
      "T =  -0.0044324833951991365\n",
      "In Scalc\n",
      "cste = 0.0001447611188596614\n",
      "sW2, cW2 = 0.23116 0.76884\n",
      "cosba, sinba = 0.9797958971132712 0.2\n",
      "mh,mH,mA,mHpm,mhref = 80.0 1396.0 1024.0 1000.0 125.0\n",
      "mW,mZ = 80.398 91.1876\n",
      "S =  -6.576256492143165\n"
     ]
    }
   ],
   "source": [
    "#Prints\n",
    "prefactor = ((1/137.)*cW2*mZ**2)/(cW2-sW2)\n",
    "print(\"corrmw \", np.sqrt( prefactor*(- 0.06/2+0.11*cW2+0.14*(cW2-sW2)/(4*sW2) ) ) ) #Values from 2204.03796\n",
    "print(\"corrmw \", np.sqrt( prefactor*(0.15/2+0.27*cW2+0*(cW2-sW2)/(4*sW2) ) ) ) #For U=0\n",
    "\n",
    "print(\"T = \", Tcalc(mH = 1396., mA = 1024., mHpm = 1000.))\n",
    "print(\"S = \", Scalc(mH = 1396., mA = 1024., mHpm = 1000.))"
   ]
  },
  {
   "cell_type": "code",
   "execution_count": null,
   "metadata": {},
   "outputs": [],
   "source": [
    "corrmw  3.4353685983978246\n",
    "corrmw  4.952306112587642\n",
    "T =  0.0013094625997870093\n",
    "S =  -39.099380869720164"
   ]
  }
 ],
 "metadata": {
  "kernelspec": {
   "display_name": "Python 3",
   "language": "python",
   "name": "python3"
  },
  "language_info": {
   "codemirror_mode": {
    "name": "ipython",
    "version": 3
   },
   "file_extension": ".py",
   "mimetype": "text/x-python",
   "name": "python",
   "nbconvert_exporter": "python",
   "pygments_lexer": "ipython3",
   "version": "3.7.9"
  }
 },
 "nbformat": 4,
 "nbformat_minor": 4
}
